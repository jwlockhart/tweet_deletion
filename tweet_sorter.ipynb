{
 "cells": [
  {
   "cell_type": "markdown",
   "id": "d128352a-e74f-4d51-81bc-d9ac80cd7637",
   "metadata": {},
   "source": [
    "# sort your tweets\n",
    "This code will let you sort your tweets bast on their attributes. You first need to request your twitter (X) archive from twitter (X).\n",
    "\n",
    "### imports"
   ]
  },
  {
   "cell_type": "code",
   "execution_count": null,
   "id": "ba94e33d-3737-4a0a-8b1a-b4009535b4ac",
   "metadata": {},
   "outputs": [],
   "source": [
    "import json"
   ]
  },
  {
   "cell_type": "markdown",
   "id": "7aa20190-6086-4026-888e-a9178fa12c03",
   "metadata": {},
   "source": [
    "## settings"
   ]
  },
  {
   "cell_type": "code",
   "execution_count": null,
   "id": "e015e31a-9657-4df0-af01-1725724202a8",
   "metadata": {},
   "outputs": [],
   "source": [
    "tweet_file = './tweets.js'\n",
    "minimum_likes = 10\n",
    "minimum_retweets = 5\n",
    "keep_media_tweets = True #pictures and videos and such"
   ]
  },
  {
   "cell_type": "markdown",
   "id": "7fbc8f09-4e88-463c-ad43-2fba9467ce72",
   "metadata": {},
   "source": [
    "## load and sort tweets"
   ]
  },
  {
   "cell_type": "code",
   "execution_count": null,
   "id": "37aae892-a26c-427c-9870-45285efdc65a",
   "metadata": {},
   "outputs": [],
   "source": [
    "with open(tweet_file, 'rt') as infile:\n",
    "    data = json.loads(infile.read()[26:])"
   ]
  },
  {
   "cell_type": "code",
   "execution_count": null,
   "id": "f9c3f322-6e39-4474-ae63-253d935efd1f",
   "metadata": {},
   "outputs": [],
   "source": [
    "keep = []\n",
    "delete = []\n",
    "rt = []\n",
    "\n",
    "for t in data:\n",
    "    likes = int(t['tweet']['favorite_count'])\n",
    "    rts = int(t['tweet']['retweet_count'])\n",
    "\n",
    "    has_media = False\n",
    "    try:\n",
    "        media = t['tweet']['entities']['media']\n",
    "        has_media = True\n",
    "    except:\n",
    "        pass\n",
    "    \n",
    "    if likes >= minimum_likes:\n",
    "        keep.append(t)\n",
    "    elif rts >= minimum_retweets:\n",
    "        keep.append(t)\n",
    "    elif has_media and keep_media_tweets:\n",
    "        keep.append(t)\n",
    "    elif t['tweet']['full_text'].startswith('RT @'):\n",
    "        rt.append(t)\n",
    "    else:\n",
    "        delete.append(t)"
   ]
  },
  {
   "cell_type": "markdown",
   "id": "afde1160-2070-4d1b-91a9-609ab1c6a018",
   "metadata": {},
   "source": [
    "## numbers of tweets in each bucket"
   ]
  },
  {
   "cell_type": "code",
   "execution_count": null,
   "id": "1deb22d2-e2c0-4960-ac78-a9861acc8c74",
   "metadata": {},
   "outputs": [],
   "source": [
    "len(keep)"
   ]
  },
  {
   "cell_type": "code",
   "execution_count": null,
   "id": "7928e8f4-4cd0-41a5-89f8-568ad2fa8dda",
   "metadata": {},
   "outputs": [],
   "source": [
    "len(delete)"
   ]
  },
  {
   "cell_type": "code",
   "execution_count": null,
   "id": "dac32067-8bac-4d6d-ab8d-6c79511fb4ea",
   "metadata": {},
   "outputs": [],
   "source": [
    "len(rt)"
   ]
  },
  {
   "cell_type": "markdown",
   "id": "7957c64c-8fee-47dc-ae34-96c082eeb9f1",
   "metadata": {},
   "source": [
    "## save results"
   ]
  },
  {
   "cell_type": "code",
   "execution_count": null,
   "id": "94ea4e90-635d-4d9f-bce5-83ad57e0e3fa",
   "metadata": {},
   "outputs": [],
   "source": [
    "with open('tweets_delete.js', 'wt') as delfile:\n",
    "    delfile.write('window.YTD.tweets.part0 = ')\n",
    "    delfile.write(json.dumps(delete))"
   ]
  },
  {
   "cell_type": "code",
   "execution_count": null,
   "id": "12542ca9-64e1-4bd1-9efd-48685c474f0f",
   "metadata": {},
   "outputs": [],
   "source": [
    "with open('tweets_keep.js', 'wt') as keepfile:\n",
    "    keepfile.write('window.YTD.tweets.part0 = ')\n",
    "    keepfile.write(json.dumps(keep))"
   ]
  },
  {
   "cell_type": "code",
   "execution_count": null,
   "id": "89ebecc8-7af5-46bb-9208-ad1fc37e4e78",
   "metadata": {},
   "outputs": [],
   "source": [
    "with open('tweets_rt.js', 'wt') as rtfile:\n",
    "    rtfile.write('window.YTD.tweets.part0 = ')\n",
    "    rtfile.write(json.dumps(rt))"
   ]
  },
  {
   "cell_type": "code",
   "execution_count": null,
   "id": "1928a50e-dcc6-46a7-ab80-f4a980c91d45",
   "metadata": {},
   "outputs": [],
   "source": []
  }
 ],
 "metadata": {
  "kernelspec": {
   "display_name": "Python 3 (ipykernel)",
   "language": "python",
   "name": "python3"
  },
  "language_info": {
   "codemirror_mode": {
    "name": "ipython",
    "version": 3
   },
   "file_extension": ".py",
   "mimetype": "text/x-python",
   "name": "python",
   "nbconvert_exporter": "python",
   "pygments_lexer": "ipython3",
   "version": "3.10.12"
  }
 },
 "nbformat": 4,
 "nbformat_minor": 5
}
