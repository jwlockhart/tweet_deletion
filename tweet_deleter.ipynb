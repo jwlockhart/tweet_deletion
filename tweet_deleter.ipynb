{
 "cells": [
  {
   "cell_type": "markdown",
   "id": "aaed837e-243f-46aa-af6e-abbab48ead15",
   "metadata": {},
   "source": [
    "# deletes tweets from a file\n",
    "Remember to download your twitter archive first, and use the tweet sorter if you want to be selective about what you delete.\n",
    "\n",
    "### imports and setup"
   ]
  },
  {
   "cell_type": "code",
   "execution_count": null,
   "id": "a90e8fd7-2536-4d7c-b16e-2739c9403fe4",
   "metadata": {},
   "outputs": [],
   "source": [
    "from selenium import webdriver\n",
    "from selenium.webdriver.common.by import By\n",
    "import json\n",
    "import time\n",
    "from tqdm import tqdm"
   ]
  },
  {
   "cell_type": "code",
   "execution_count": null,
   "id": "9a484c2d-4113-4f77-b6ea-acf821c28bf8",
   "metadata": {},
   "outputs": [],
   "source": [
    "service = webdriver.ChromeService(executable_path = './chromedriver')\n",
    "driver = webdriver.Chrome(service=service)"
   ]
  },
  {
   "cell_type": "markdown",
   "id": "0422a636-629f-435c-9a1c-bdd64752863b",
   "metadata": {},
   "source": [
    "## settings"
   ]
  },
  {
   "cell_type": "code",
   "execution_count": null,
   "id": "6f9f8002-4eea-4db9-8aa3-ca3ce746ad4c",
   "metadata": {},
   "outputs": [],
   "source": [
    "tweets_to_delete = 'tweets_delete.js'\n",
    "your_twitter_handle = '' #put your twitter handle here, without the @"
   ]
  },
  {
   "cell_type": "markdown",
   "id": "9d85bf88-7943-4a6f-a132-8c79c72af7d7",
   "metadata": {},
   "source": [
    "## load data"
   ]
  },
  {
   "cell_type": "code",
   "execution_count": null,
   "id": "beda80b4-d403-4535-9f05-8864365a6de0",
   "metadata": {},
   "outputs": [],
   "source": [
    "with open(tweets_to_delete, 'rt') as delfile:\n",
    "    data = json.loads(delfile.read()[26:])"
   ]
  },
  {
   "cell_type": "code",
   "execution_count": null,
   "id": "25d0c60b-60b0-4836-94e4-9eb6ef713e09",
   "metadata": {},
   "outputs": [],
   "source": [
    "len(data)"
   ]
  },
  {
   "cell_type": "code",
   "execution_count": null,
   "id": "3abafa7b-8007-4816-8428-252c3e04fa38",
   "metadata": {},
   "outputs": [],
   "source": [
    "for t in tqdm(data):\n",
    "    skip=False\n",
    "    tid = t['tweet']['id']\n",
    "    url = 'https://twitter.com/'+your_twitter_handle+'/status/'+tid\n",
    "    driver.get(url)\n",
    "    time.sleep(3)\n",
    "\n",
    "    #grab all the divs. Twitter randomizes their class names, so we do it the hard way\n",
    "    matches = driver.find_elements(By.TAG_NAME, 'div')\n",
    "\n",
    "    for m in matches:\n",
    "        #skip 404 or otherwise unavailable tweets.\n",
    "        if 'error-detail' == m.get_attribute('data-testid'):\n",
    "            skip=True\n",
    "            break\n",
    "    if skip:\n",
    "        continue\n",
    "    \n",
    "    for m in matches:\n",
    "        ar = ''\n",
    "        try:\n",
    "            ar = m.aria_role \n",
    "        except:\n",
    "            pass\n",
    "            \n",
    "        #enumerate the buttons on the page\n",
    "        if ar == 'button':\n",
    "            al = m.get_attribute('aria-label')\n",
    "            ah = m.get_attribute('aria-haspopup')\n",
    "            \n",
    "            #click all the the menu buttons\n",
    "            if (al == 'More') and (ah=='menu'):\n",
    "                try:\n",
    "                    m.click()\n",
    "                    #if we can delete it, do delete it. \n",
    "                    d = driver.find_element(By.XPATH, \"//span[.='Delete']\")\n",
    "                    d.click()\n",
    "                    #now repeat to confirm\n",
    "                    d = driver.find_element(By.XPATH, \"//span[.='Delete']\")\n",
    "                    d.click()\n",
    "                except:\n",
    "                    #some menus don't have a delete option, because they're not for our tweets\n",
    "                    pass"
   ]
  },
  {
   "cell_type": "code",
   "execution_count": null,
   "id": "25e041b6-b11c-44be-bd6f-0ba1ab8dd11d",
   "metadata": {},
   "outputs": [],
   "source": []
  },
  {
   "cell_type": "code",
   "execution_count": null,
   "id": "11d2c8cc-f795-41eb-a982-9f0cc802dc05",
   "metadata": {},
   "outputs": [],
   "source": []
  }
 ],
 "metadata": {
  "kernelspec": {
   "display_name": "Python 3 (ipykernel)",
   "language": "python",
   "name": "python3"
  },
  "language_info": {
   "codemirror_mode": {
    "name": "ipython",
    "version": 3
   },
   "file_extension": ".py",
   "mimetype": "text/x-python",
   "name": "python",
   "nbconvert_exporter": "python",
   "pygments_lexer": "ipython3",
   "version": "3.10.12"
  }
 },
 "nbformat": 4,
 "nbformat_minor": 5
}
